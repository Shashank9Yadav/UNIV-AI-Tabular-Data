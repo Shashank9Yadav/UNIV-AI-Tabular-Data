{
  "nbformat": 4,
  "nbformat_minor": 0,
  "metadata": {
    "colab": {
      "name": "Untitled27.ipynb",
      "provenance": [],
      "authorship_tag": "ABX9TyP9C5H7LAbGnV5cRZddUUAu",
      "include_colab_link": true
    },
    "kernelspec": {
      "display_name": "Python 3",
      "name": "python3"
    },
    "accelerator": "GPU"
  },
  "cells": [
    {
      "cell_type": "markdown",
      "metadata": {
        "id": "view-in-github",
        "colab_type": "text"
      },
      "source": [
        "<a href=\"https://colab.research.google.com/github/Shashank9Yadav/UNIV-AI-Tabular-Data/blob/main/Untitled27.ipynb\" target=\"_parent\"><img src=\"https://colab.research.google.com/assets/colab-badge.svg\" alt=\"Open In Colab\"/></a>"
      ]
    },
    {
      "cell_type": "code",
      "metadata": {
        "colab": {
          "base_uri": "https://localhost:8080/"
        },
        "id": "Y_83cElIIPIx",
        "outputId": "e7ec1d9d-a3d1-47c4-a996-1694c6554002"
      },
      "source": [
        "import keras\n",
        "keras.__version__  \n",
        "     \n",
        "from keras.datasets import imdb\n",
        "import numpy as np\n",
        "\n",
        "(train_data, train_labels), (test_data, test_labels) = imdb.load_data(num_words=10000)\n"
      ],
      "execution_count": 1,
      "outputs": [
        {
          "output_type": "stream",
          "text": [
            "Downloading data from https://storage.googleapis.com/tensorflow/tf-keras-datasets/imdb.npz\n",
            "17465344/17464789 [==============================] - 0s 0us/step\n"
          ],
          "name": "stdout"
        },
        {
          "output_type": "stream",
          "text": [
            "<string>:6: VisibleDeprecationWarning: Creating an ndarray from ragged nested sequences (which is a list-or-tuple of lists-or-tuples-or ndarrays with different lengths or shapes) is deprecated. If you meant to do this, you must specify 'dtype=object' when creating the ndarray\n",
            "/usr/local/lib/python3.6/dist-packages/tensorflow/python/keras/datasets/imdb.py:159: VisibleDeprecationWarning: Creating an ndarray from ragged nested sequences (which is a list-or-tuple of lists-or-tuples-or ndarrays with different lengths or shapes) is deprecated. If you meant to do this, you must specify 'dtype=object' when creating the ndarray\n",
            "  x_train, y_train = np.array(xs[:idx]), np.array(labels[:idx])\n",
            "/usr/local/lib/python3.6/dist-packages/tensorflow/python/keras/datasets/imdb.py:160: VisibleDeprecationWarning: Creating an ndarray from ragged nested sequences (which is a list-or-tuple of lists-or-tuples-or ndarrays with different lengths or shapes) is deprecated. If you meant to do this, you must specify 'dtype=object' when creating the ndarray\n",
            "  x_test, y_test = np.array(xs[idx:]), np.array(labels[idx:])\n"
          ],
          "name": "stderr"
        }
      ]
    },
    {
      "cell_type": "code",
      "metadata": {
        "id": "4r0HaWEZIPL0"
      },
      "source": [
        "\n",
        "def vectorize_sequences(sequences, dimension=10000):\n",
        "    # Create an all-zero matrix of shape (len(sequences), dimension)\n",
        "    results = np.zeros((len(sequences), dimension))\n",
        "    for i, sequence in enumerate(sequences):\n",
        "        results[i, sequence] = 1.  # set specific indices of results[i] to 1s\n",
        "    return results\n",
        "\n",
        "# Our vectorized training data\n",
        "x_train = vectorize_sequences(train_data)\n",
        "# Our vectorized test data\n",
        "x_test = vectorize_sequences(test_data)\n",
        "# Our vectorized labels\n",
        "y_train = np.asarray(train_labels).astype('float32')\n",
        "y_test = np.asarray(test_labels).astype('float32')\n",
        "  \n",
        "\n",
        " \n",
        "from keras import models\n",
        "from keras import layers\n",
        "\n",
        "original_model = models.Sequential()\n",
        "original_model.add(layers.Dense(16, activation='relu', input_shape=(10000,)))\n",
        "original_model.add(layers.Dense(16, activation='relu'))\n",
        "original_model.add(layers.Dense(1, activation='sigmoid'))\n",
        "\n",
        "original_model.compile(optimizer='rmsprop',\n",
        "                       loss='binary_crossentropy',\n",
        "                       metrics=['acc'])"
      ],
      "execution_count": 2,
      "outputs": []
    },
    {
      "cell_type": "code",
      "metadata": {
        "colab": {
          "base_uri": "https://localhost:8080/"
        },
        "id": "TVKmMohoIUOT",
        "outputId": "365c6bbd-ecbc-44f8-9752-390d9f770ab3"
      },
      "source": [
        "original_hist = original_model.fit(x_train, y_train,\n",
        "                                   epochs=20,\n",
        "                                   batch_size=512,\n",
        "                                   validation_data=(x_test, y_test))"
      ],
      "execution_count": 3,
      "outputs": [
        {
          "output_type": "stream",
          "text": [
            "Epoch 1/20\n",
            "49/49 [==============================] - 4s 37ms/step - loss: 0.5468 - acc: 0.7474 - val_loss: 0.3506 - val_acc: 0.8758\n",
            "Epoch 2/20\n",
            "49/49 [==============================] - 1s 22ms/step - loss: 0.2824 - acc: 0.9073 - val_loss: 0.2979 - val_acc: 0.8827\n",
            "Epoch 3/20\n",
            "49/49 [==============================] - 1s 26ms/step - loss: 0.2061 - acc: 0.9310 - val_loss: 0.2908 - val_acc: 0.8825\n",
            "Epoch 4/20\n",
            "49/49 [==============================] - 1s 22ms/step - loss: 0.1683 - acc: 0.9434 - val_loss: 0.2960 - val_acc: 0.8818\n",
            "Epoch 5/20\n",
            "49/49 [==============================] - 1s 22ms/step - loss: 0.1397 - acc: 0.9528 - val_loss: 0.3130 - val_acc: 0.8777\n",
            "Epoch 6/20\n",
            "49/49 [==============================] - 1s 22ms/step - loss: 0.1225 - acc: 0.9595 - val_loss: 0.3269 - val_acc: 0.8765\n",
            "Epoch 7/20\n",
            "49/49 [==============================] - 1s 22ms/step - loss: 0.1081 - acc: 0.9656 - val_loss: 0.3591 - val_acc: 0.8710\n",
            "Epoch 8/20\n",
            "49/49 [==============================] - 1s 21ms/step - loss: 0.0935 - acc: 0.9706 - val_loss: 0.3684 - val_acc: 0.8717\n",
            "Epoch 9/20\n",
            "49/49 [==============================] - 1s 23ms/step - loss: 0.0778 - acc: 0.9766 - val_loss: 0.4163 - val_acc: 0.8640\n",
            "Epoch 10/20\n",
            "49/49 [==============================] - 1s 22ms/step - loss: 0.0710 - acc: 0.9779 - val_loss: 0.4333 - val_acc: 0.8623\n",
            "Epoch 11/20\n",
            "49/49 [==============================] - 1s 22ms/step - loss: 0.0615 - acc: 0.9830 - val_loss: 0.4489 - val_acc: 0.8642\n",
            "Epoch 12/20\n",
            "49/49 [==============================] - 1s 21ms/step - loss: 0.0518 - acc: 0.9852 - val_loss: 0.4947 - val_acc: 0.8567\n",
            "Epoch 13/20\n",
            "49/49 [==============================] - 1s 22ms/step - loss: 0.0465 - acc: 0.9874 - val_loss: 0.5516 - val_acc: 0.8508\n",
            "Epoch 14/20\n",
            "49/49 [==============================] - 1s 22ms/step - loss: 0.0363 - acc: 0.9911 - val_loss: 0.5843 - val_acc: 0.8548\n",
            "Epoch 15/20\n",
            "49/49 [==============================] - 1s 22ms/step - loss: 0.0318 - acc: 0.9917 - val_loss: 0.5952 - val_acc: 0.8562\n",
            "Epoch 16/20\n",
            "49/49 [==============================] - 1s 22ms/step - loss: 0.0239 - acc: 0.9946 - val_loss: 0.6295 - val_acc: 0.8539\n",
            "Epoch 17/20\n",
            "49/49 [==============================] - 1s 22ms/step - loss: 0.0199 - acc: 0.9957 - val_loss: 0.6814 - val_acc: 0.8520\n",
            "Epoch 18/20\n",
            "49/49 [==============================] - 1s 22ms/step - loss: 0.0165 - acc: 0.9962 - val_loss: 0.7839 - val_acc: 0.8455\n",
            "Epoch 19/20\n",
            "49/49 [==============================] - 1s 22ms/step - loss: 0.0143 - acc: 0.9969 - val_loss: 0.7532 - val_acc: 0.8506\n",
            "Epoch 20/20\n",
            "49/49 [==============================] - 1s 22ms/step - loss: 0.0111 - acc: 0.9980 - val_loss: 0.7912 - val_acc: 0.8502\n"
          ],
          "name": "stdout"
        }
      ]
    },
    {
      "cell_type": "code",
      "metadata": {
        "id": "pEBNSKQeIWA4"
      },
      "source": [
        "smaller_model = models.Sequential()\n",
        "smaller_model.add(layers.Dense(4, activation='relu', input_shape=(10000,)))\n",
        "smaller_model.add(layers.Dense(4, activation='relu'))\n",
        "smaller_model.add(layers.Dense(1, activation='sigmoid'))\n",
        "\n",
        "smaller_model.compile(optimizer='rmsprop',\n",
        "                      loss='binary_crossentropy',\n",
        "                      metrics=['acc'])"
      ],
      "execution_count": 4,
      "outputs": []
    },
    {
      "cell_type": "code",
      "metadata": {
        "colab": {
          "base_uri": "https://localhost:8080/"
        },
        "id": "MGMUrU6kIXdX",
        "outputId": "80311bb6-f4ef-4f84-de63-25f4b66c4a53"
      },
      "source": [
        "\n",
        "\n",
        "smaller_model_hist = smaller_model.fit(x_train, y_train,\n",
        "                                       epochs=20,\n",
        "                                       batch_size=512,\n",
        "                                       validation_data=(x_test, y_test))\n",
        "\n"
      ],
      "execution_count": 5,
      "outputs": [
        {
          "output_type": "stream",
          "text": [
            "Epoch 1/20\n",
            "49/49 [==============================] - 2s 33ms/step - loss: 0.6592 - acc: 0.6062 - val_loss: 0.5914 - val_acc: 0.7906\n",
            "Epoch 2/20\n",
            "49/49 [==============================] - 1s 22ms/step - loss: 0.5586 - acc: 0.7888 - val_loss: 0.5315 - val_acc: 0.7962\n",
            "Epoch 3/20\n",
            "49/49 [==============================] - 1s 22ms/step - loss: 0.4931 - acc: 0.8452 - val_loss: 0.4926 - val_acc: 0.8524\n",
            "Epoch 4/20\n",
            "49/49 [==============================] - 1s 22ms/step - loss: 0.4538 - acc: 0.8843 - val_loss: 0.4688 - val_acc: 0.8583\n",
            "Epoch 5/20\n",
            "49/49 [==============================] - 1s 21ms/step - loss: 0.4101 - acc: 0.9054 - val_loss: 0.3793 - val_acc: 0.8784\n",
            "Epoch 6/20\n",
            "49/49 [==============================] - 1s 22ms/step - loss: 0.2952 - acc: 0.9311 - val_loss: 0.3188 - val_acc: 0.8881\n",
            "Epoch 7/20\n",
            "49/49 [==============================] - 1s 22ms/step - loss: 0.2293 - acc: 0.9372 - val_loss: 0.2970 - val_acc: 0.8867\n",
            "Epoch 8/20\n",
            "49/49 [==============================] - 1s 22ms/step - loss: 0.1895 - acc: 0.9458 - val_loss: 0.2908 - val_acc: 0.8858\n",
            "Epoch 9/20\n",
            "49/49 [==============================] - 1s 21ms/step - loss: 0.1608 - acc: 0.9522 - val_loss: 0.2896 - val_acc: 0.8858\n",
            "Epoch 10/20\n",
            "49/49 [==============================] - 1s 22ms/step - loss: 0.1453 - acc: 0.9556 - val_loss: 0.2959 - val_acc: 0.8844\n",
            "Epoch 11/20\n",
            "49/49 [==============================] - 1s 22ms/step - loss: 0.1326 - acc: 0.9607 - val_loss: 0.3110 - val_acc: 0.8787\n",
            "Epoch 12/20\n",
            "49/49 [==============================] - 1s 21ms/step - loss: 0.1279 - acc: 0.9613 - val_loss: 0.3171 - val_acc: 0.8797\n",
            "Epoch 13/20\n",
            "49/49 [==============================] - 1s 22ms/step - loss: 0.1149 - acc: 0.9650 - val_loss: 0.3302 - val_acc: 0.8776\n",
            "Epoch 14/20\n",
            "49/49 [==============================] - 1s 22ms/step - loss: 0.1031 - acc: 0.9682 - val_loss: 0.3415 - val_acc: 0.8770\n",
            "Epoch 15/20\n",
            "49/49 [==============================] - 1s 22ms/step - loss: 0.0950 - acc: 0.9714 - val_loss: 0.3540 - val_acc: 0.8750\n",
            "Epoch 16/20\n",
            "49/49 [==============================] - 1s 21ms/step - loss: 0.0891 - acc: 0.9744 - val_loss: 0.3697 - val_acc: 0.8734\n",
            "Epoch 17/20\n",
            "49/49 [==============================] - 1s 21ms/step - loss: 0.0827 - acc: 0.9755 - val_loss: 0.3836 - val_acc: 0.8716\n",
            "Epoch 18/20\n",
            "49/49 [==============================] - 1s 21ms/step - loss: 0.0770 - acc: 0.9784 - val_loss: 0.4023 - val_acc: 0.8693\n",
            "Epoch 19/20\n",
            "49/49 [==============================] - 1s 21ms/step - loss: 0.0716 - acc: 0.9810 - val_loss: 0.4243 - val_acc: 0.8634\n",
            "Epoch 20/20\n",
            "49/49 [==============================] - 1s 21ms/step - loss: 0.0660 - acc: 0.9828 - val_loss: 0.4340 - val_acc: 0.8661\n"
          ],
          "name": "stdout"
        }
      ]
    },
    {
      "cell_type": "code",
      "metadata": {
        "colab": {
          "base_uri": "https://localhost:8080/",
          "height": 279
        },
        "id": "nwfyTVgRIZsm",
        "outputId": "f12c71b1-b955-42c0-d309-c31f772d57a2"
      },
      "source": [
        "\n",
        "epochs = range(1, 21)\n",
        "original_val_loss = original_hist.history['val_loss']\n",
        "smaller_model_val_loss = smaller_model_hist.history['val_loss']\n",
        "\n",
        "import matplotlib.pyplot as plt\n",
        "\n",
        "# b+ is for \"blue cross\"\n",
        "plt.plot(epochs, original_val_loss, 'b+', label='Original model')\n",
        "# \"bo\" is for \"blue dot\"\n",
        "plt.plot(epochs, smaller_model_val_loss, 'bo', label='Smaller model')\n",
        "plt.xlabel('Epochs')\n",
        "plt.ylabel('Validation loss')\n",
        "plt.legend()\n",
        "\n",
        "plt.show()\n",
        "\n",
        "#As you can see, the smaller network starts overfitting later than the reference one (after 6 epochs rather than 4)\n",
        "# and its performance degrades much more slowly once it starts overfitting.\n",
        "\n",
        "#Now, for kicks, let's add to this benchmark a network that has much more capacity, far more than the problem would warrant:\n"
      ],
      "execution_count": 6,
      "outputs": [
        {
          "output_type": "display_data",
          "data": {
            "image/png": "[encoded data removed]",
            "text/plain": [
              "<Figure size 432x288 with 1 Axes>"
            ]
          },
          "metadata": {
            "tags": [],
            "needs_background": "light"
          }
        }
      ]
    },
    {
      "cell_type": "code",
      "metadata": {
        "colab": {
          "base_uri": "https://localhost:8080/"
        },
        "id": "wYV85mLZIxb5",
        "outputId": "b9a3ddbf-3b3f-42ce-dd35-7eb742bdf03d"
      },
      "source": [
        "\n",
        "bigger_model = models.Sequential()\n",
        "bigger_model.add(layers.Dense(512, activation='relu', input_shape=(10000,)))\n",
        "bigger_model.add(layers.Dense(512, activation='relu'))\n",
        "bigger_model.add(layers.Dense(1, activation='sigmoid'))\n",
        "\n",
        "bigger_model.compile(optimizer='rmsprop',\n",
        "                     loss='binary_crossentropy',\n",
        "                     metrics=['acc'])\n",
        "\n",
        "bigger_model_hist = bigger_model.fit(x_train, y_train,\n",
        "                                     epochs=20,\n",
        "                                     batch_size=512,\n",
        "                                     validation_data=(x_test, y_test))\n",
        " \n",
        "\n"
      ],
      "execution_count": 7,
      "outputs": [
        {
          "output_type": "stream",
          "text": [
            "Epoch 1/20\n",
            "49/49 [==============================] - 3s 57ms/step - loss: 0.6175 - acc: 0.7155 - val_loss: 0.2801 - val_acc: 0.8863\n",
            "Epoch 2/20\n",
            "49/49 [==============================] - 1s 25ms/step - loss: 0.2208 - acc: 0.9150 - val_loss: 0.2877 - val_acc: 0.8880\n",
            "Epoch 3/20\n",
            "49/49 [==============================] - 1s 25ms/step - loss: 0.1517 - acc: 0.9421 - val_loss: 0.3335 - val_acc: 0.8837\n",
            "Epoch 4/20\n",
            "49/49 [==============================] - 1s 25ms/step - loss: 0.0676 - acc: 0.9789 - val_loss: 0.3576 - val_acc: 0.8835\n",
            "Epoch 5/20\n",
            "49/49 [==============================] - 1s 29ms/step - loss: 0.0250 - acc: 0.9950 - val_loss: 0.4201 - val_acc: 0.8820\n",
            "Epoch 6/20\n",
            "49/49 [==============================] - 1s 24ms/step - loss: 0.0041 - acc: 0.9999 - val_loss: 0.6336 - val_acc: 0.8797\n",
            "Epoch 7/20\n",
            "49/49 [==============================] - 1s 24ms/step - loss: 0.0457 - acc: 0.9956 - val_loss: 0.6259 - val_acc: 0.8785\n",
            "Epoch 8/20\n",
            "49/49 [==============================] - 1s 24ms/step - loss: 4.5166e-04 - acc: 1.0000 - val_loss: 0.7557 - val_acc: 0.8784\n",
            "Epoch 9/20\n",
            "49/49 [==============================] - 1s 24ms/step - loss: 8.6143e-05 - acc: 1.0000 - val_loss: 0.9166 - val_acc: 0.8784\n",
            "Epoch 10/20\n",
            "49/49 [==============================] - 1s 24ms/step - loss: 0.0418 - acc: 0.9970 - val_loss: 0.6867 - val_acc: 0.8744\n",
            "Epoch 11/20\n",
            "49/49 [==============================] - 1s 25ms/step - loss: 1.6264e-04 - acc: 1.0000 - val_loss: 0.7915 - val_acc: 0.8776\n",
            "Epoch 12/20\n",
            "49/49 [==============================] - 1s 25ms/step - loss: 3.6087e-05 - acc: 1.0000 - val_loss: 0.9423 - val_acc: 0.8786\n",
            "Epoch 13/20\n",
            "49/49 [==============================] - 1s 25ms/step - loss: 5.7441e-06 - acc: 1.0000 - val_loss: 1.1061 - val_acc: 0.8788\n",
            "Epoch 14/20\n",
            "49/49 [==============================] - 1s 25ms/step - loss: 9.5762e-07 - acc: 1.0000 - val_loss: 1.2413 - val_acc: 0.8785\n",
            "Epoch 15/20\n",
            "49/49 [==============================] - 1s 25ms/step - loss: 1.9245e-07 - acc: 1.0000 - val_loss: 1.3881 - val_acc: 0.8784\n",
            "Epoch 16/20\n",
            "49/49 [==============================] - 1s 25ms/step - loss: 4.6827e-08 - acc: 1.0000 - val_loss: 1.4756 - val_acc: 0.8782\n",
            "Epoch 17/20\n",
            "49/49 [==============================] - 1s 24ms/step - loss: 2.1492e-08 - acc: 1.0000 - val_loss: 1.5257 - val_acc: 0.8784\n",
            "Epoch 18/20\n",
            "49/49 [==============================] - 1s 25ms/step - loss: 1.2228e-08 - acc: 1.0000 - val_loss: 1.5553 - val_acc: 0.8785\n",
            "Epoch 19/20\n",
            "49/49 [==============================] - 1s 25ms/step - loss: 9.3350e-09 - acc: 1.0000 - val_loss: 1.5783 - val_acc: 0.8783\n",
            "Epoch 20/20\n",
            "49/49 [==============================] - 1s 24ms/step - loss: 7.0307e-09 - acc: 1.0000 - val_loss: 1.5971 - val_acc: 0.8782\n"
          ],
          "name": "stdout"
        }
      ]
    },
    {
      "cell_type": "code",
      "metadata": {
        "colab": {
          "base_uri": "https://localhost:8080/",
          "height": 279
        },
        "id": "JMpwJWV-Izh5",
        "outputId": "f2f60c0e-2172-4737-cec3-aa4ab5875972"
      },
      "source": [
        "\n",
        "#Here's how the bigger network fares compared to the reference one. The dots are the validation loss values of the\n",
        " #bigger network, and the crosses are the initial network.\n",
        "\n",
        "bigger_model_val_loss = bigger_model_hist.history['val_loss']\n",
        "\n",
        "plt.plot(epochs, original_val_loss, 'b+', label='Original model')\n",
        "plt.plot(epochs, bigger_model_val_loss, 'bo', label='Bigger model')\n",
        "plt.xlabel('Epochs')\n",
        "plt.ylabel('Validation loss')\n",
        "plt.legend()\n",
        "\n",
        "plt.show()"
      ],
      "execution_count": 8,
      "outputs": [
        {
          "output_type": "display_data",
          "data": {
            "image/png": "[encoded data removed]",
            "text/plain": [
              "<Figure size 432x288 with 1 Axes>"
            ]
          },
          "metadata": {
            "tags": [],
            "needs_background": "light"
          }
        }
      ]
    },
    {
      "cell_type": "code",
      "metadata": {
        "colab": {
          "base_uri": "https://localhost:8080/",
          "height": 279
        },
        "id": "qxCdLxC6I1p4",
        "outputId": "f610b547-9987-4aba-ea4b-a465a72f3fd0"
      },
      "source": [
        "epochs = range(1, 21)\n",
        "original_val_loss = original_hist.history['val_loss']\n",
        "smaller_model_val_loss = smaller_model_hist.history['val_loss']\n",
        "\n",
        "import matplotlib.pyplot as plt\n",
        "\n",
        "# b+ is for \"blue cross\"\n",
        "plt.plot(epochs, original_val_loss, 'b+', label='Original model')\n",
        "# \"bo\" is for \"blue dot\"\n",
        "plt.plot(epochs, smaller_model_val_loss, 'bo', label='Smaller model')\n",
        "plt.xlabel('Epochs')\n",
        "plt.ylabel('Validation loss')\n",
        "plt.legend()\n",
        "\n",
        "plt.show()\n",
        "\n"
      ],
      "execution_count": 9,
      "outputs": [
        {
          "output_type": "display_data",
          "data": {
            "image/png": "[encoded data removed]",
            "text/plain": [
              "<Figure size 432x288 with 1 Axes>"
            ]
          },
          "metadata": {
            "tags": [],
            "needs_background": "light"
          }
        }
      ]
    },
    {
      "cell_type": "code",
      "metadata": {
        "colab": {
          "base_uri": "https://localhost:8080/",
          "height": 279
        },
        "id": "DWMEVptMI4dv",
        "outputId": "ed0d3948-d978-4655-d53e-011563e08c62"
      },
      "source": [
        "original_train_loss = original_hist.history['loss']\n",
        "bigger_model_train_loss = bigger_model_hist.history['loss']\n",
        "\n",
        "plt.plot(epochs, original_train_loss, 'b+', label='Original model')\n",
        "plt.plot(epochs, bigger_model_train_loss, 'bo', label='Bigger model')\n",
        "plt.xlabel('Epochs')\n",
        "plt.ylabel('Training loss')\n",
        "plt.legend()\n",
        "\n",
        "plt.show()"
      ],
      "execution_count": 10,
      "outputs": [
        {
          "output_type": "display_data",
          "data": {
            "image/png": "[encoded data removed]",
            "text/plain": [
              "<Figure size 432x288 with 1 Axes>"
            ]
          },
          "metadata": {
            "tags": [],
            "needs_background": "light"
          }
        }
      ]
    },
    {
      "cell_type": "code",
      "metadata": {
        "id": "TwNwlmgoI6Ht"
      },
      "source": [
        "from keras import regularizers\n",
        "\n",
        "l2_model = models.Sequential()\n",
        "l2_model.add(layers.Dense(16, kernel_regularizer=regularizers.l2(0.001),\n",
        "                          activation='relu', input_shape=(10000,)))\n",
        "l2_model.add(layers.Dense(16, kernel_regularizer=regularizers.l2(0.001),\n",
        "                          activation='relu'))\n",
        "l2_model.add(layers.Dense(1, activation='sigmoid'))\n",
        "\n",
        "l2_model.compile(optimizer='rmsprop',\n",
        "                 loss='binary_crossentropy',\n",
        "                 metrics=['acc'])\n",
        "\n"
      ],
      "execution_count": 11,
      "outputs": []
    },
    {
      "cell_type": "code",
      "metadata": {
        "colab": {
          "base_uri": "https://localhost:8080/"
        },
        "id": "Yiy1YvXWJB7B",
        "outputId": "dfbe567e-bba8-4c26-9a2b-d0633a03879a"
      },
      "source": [
        "l2_model_hist = l2_model.fit(x_train, y_train,\n",
        "                             epochs=20,\n",
        "                             batch_size=512,\n",
        "                             validation_data=(x_test, y_test))"
      ],
      "execution_count": 12,
      "outputs": [
        {
          "output_type": "stream",
          "text": [
            "Epoch 1/20\n",
            "49/49 [==============================] - 2s 29ms/step - loss: 0.6141 - acc: 0.7420 - val_loss: 0.4020 - val_acc: 0.8806\n",
            "Epoch 2/20\n",
            "49/49 [==============================] - 1s 22ms/step - loss: 0.3475 - acc: 0.9035 - val_loss: 0.3474 - val_acc: 0.8850\n",
            "Epoch 3/20\n",
            "49/49 [==============================] - 1s 23ms/step - loss: 0.2813 - acc: 0.9229 - val_loss: 0.3420 - val_acc: 0.8834\n",
            "Epoch 4/20\n",
            "49/49 [==============================] - 1s 23ms/step - loss: 0.2546 - acc: 0.9303 - val_loss: 0.3327 - val_acc: 0.8871\n",
            "Epoch 5/20\n",
            "49/49 [==============================] - 1s 22ms/step - loss: 0.2425 - acc: 0.9362 - val_loss: 0.3385 - val_acc: 0.8857\n",
            "Epoch 6/20\n",
            "49/49 [==============================] - 1s 23ms/step - loss: 0.2316 - acc: 0.9371 - val_loss: 0.3468 - val_acc: 0.8838\n",
            "Epoch 7/20\n",
            "49/49 [==============================] - 1s 22ms/step - loss: 0.2184 - acc: 0.9433 - val_loss: 0.3728 - val_acc: 0.8741\n",
            "Epoch 8/20\n",
            "49/49 [==============================] - 1s 22ms/step - loss: 0.2173 - acc: 0.9453 - val_loss: 0.3578 - val_acc: 0.8792\n",
            "Epoch 9/20\n",
            "49/49 [==============================] - 1s 21ms/step - loss: 0.2110 - acc: 0.9473 - val_loss: 0.3623 - val_acc: 0.8784\n",
            "Epoch 10/20\n",
            "49/49 [==============================] - 1s 22ms/step - loss: 0.2074 - acc: 0.9475 - val_loss: 0.3688 - val_acc: 0.8764\n",
            "Epoch 11/20\n",
            "49/49 [==============================] - 1s 22ms/step - loss: 0.2025 - acc: 0.9489 - val_loss: 0.3738 - val_acc: 0.8756\n",
            "Epoch 12/20\n",
            "49/49 [==============================] - 1s 21ms/step - loss: 0.1966 - acc: 0.9517 - val_loss: 0.3846 - val_acc: 0.8731\n",
            "Epoch 13/20\n",
            "49/49 [==============================] - 1s 21ms/step - loss: 0.1955 - acc: 0.9528 - val_loss: 0.4063 - val_acc: 0.8675\n",
            "Epoch 14/20\n",
            "49/49 [==============================] - 1s 22ms/step - loss: 0.1900 - acc: 0.9541 - val_loss: 0.3918 - val_acc: 0.8730\n",
            "Epoch 15/20\n",
            "49/49 [==============================] - 1s 22ms/step - loss: 0.1887 - acc: 0.9559 - val_loss: 0.4007 - val_acc: 0.8705\n",
            "Epoch 16/20\n",
            "49/49 [==============================] - 1s 23ms/step - loss: 0.1871 - acc: 0.9554 - val_loss: 0.3980 - val_acc: 0.8715\n",
            "Epoch 17/20\n",
            "49/49 [==============================] - 1s 23ms/step - loss: 0.1878 - acc: 0.9535 - val_loss: 0.4006 - val_acc: 0.8708\n",
            "Epoch 18/20\n",
            "49/49 [==============================] - 1s 23ms/step - loss: 0.1838 - acc: 0.9553 - val_loss: 0.4204 - val_acc: 0.8650\n",
            "Epoch 19/20\n",
            "49/49 [==============================] - 1s 22ms/step - loss: 0.1827 - acc: 0.9557 - val_loss: 0.4104 - val_acc: 0.8681\n",
            "Epoch 20/20\n",
            "49/49 [==============================] - 1s 22ms/step - loss: 0.1807 - acc: 0.9570 - val_loss: 0.4086 - val_acc: 0.8698\n"
          ],
          "name": "stdout"
        }
      ]
    },
    {
      "cell_type": "code",
      "metadata": {
        "colab": {
          "base_uri": "https://localhost:8080/",
          "height": 279
        },
        "id": "-_eVTV6YJE6n",
        "outputId": "465782e9-cc95-461e-80b1-88718e774543"
      },
      "source": [
        "\n",
        "\n",
        "l2_model_val_loss = l2_model_hist.history['val_loss']\n",
        "\n",
        "plt.plot(epochs, original_val_loss, 'b+', label='Original model')\n",
        "plt.plot(epochs, l2_model_val_loss, 'bo', label='L2-regularized model')\n",
        "plt.xlabel('Epochs')\n",
        "plt.ylabel('Validation loss')\n",
        "plt.legend()\n",
        "\n",
        "plt.show()\n",
        "\n"
      ],
      "execution_count": 13,
      "outputs": [
        {
          "output_type": "display_data",
          "data": {
            "image/png": "[encoded data removed]",
            "text/plain": [
              "<Figure size 432x288 with 1 Axes>"
            ]
          },
          "metadata": {
            "tags": [],
            "needs_background": "light"
          }
        }
      ]
    },
    {
      "cell_type": "code",
      "metadata": {
        "colab": {
          "base_uri": "https://localhost:8080/"
        },
        "id": "wq6xqFLRJMIC",
        "outputId": "d99ce43e-5b82-4bcb-cb86-d6b60835856d"
      },
      "source": [
        "dpt_model = models.Sequential()\n",
        "dpt_model.add(layers.Dense(16, activation='relu', input_shape=(10000,)))\n",
        "dpt_model.add(layers.Dropout(0.5))\n",
        "dpt_model.add(layers.Dense(16, activation='relu'))\n",
        "dpt_model.add(layers.Dropout(0.5))\n",
        "dpt_model.add(layers.Dense(1, activation='sigmoid'))\n",
        "\n",
        "dpt_model.compile(optimizer='rmsprop',\n",
        "                  loss='binary_crossentropy',\n",
        "                  metrics=['acc'])\n",
        "\n",
        "dpt_model_hist = dpt_model.fit(x_train, y_train,\n",
        "                               epochs=20,\n",
        "                               batch_size=512,\n",
        "                               validation_data=(x_test, y_test))\n",
        "\n",
        " "
      ],
      "execution_count": 14,
      "outputs": [
        {
          "output_type": "stream",
          "text": [
            "Epoch 1/20\n",
            "49/49 [==============================] - 2s 29ms/step - loss: 0.6328 - acc: 0.6263 - val_loss: 0.4068 - val_acc: 0.8640\n",
            "Epoch 2/20\n",
            "49/49 [==============================] - 1s 22ms/step - loss: 0.4345 - acc: 0.8218 - val_loss: 0.3157 - val_acc: 0.8842\n",
            "Epoch 3/20\n",
            "49/49 [==============================] - 1s 22ms/step - loss: 0.3385 - acc: 0.8786 - val_loss: 0.2896 - val_acc: 0.8849\n",
            "Epoch 4/20\n",
            "49/49 [==============================] - 1s 22ms/step - loss: 0.2828 - acc: 0.9002 - val_loss: 0.2771 - val_acc: 0.8894\n",
            "Epoch 5/20\n",
            "49/49 [==============================] - 1s 22ms/step - loss: 0.2348 - acc: 0.9211 - val_loss: 0.2946 - val_acc: 0.8852\n",
            "Epoch 6/20\n",
            "49/49 [==============================] - 1s 22ms/step - loss: 0.2091 - acc: 0.9328 - val_loss: 0.2977 - val_acc: 0.8864\n",
            "Epoch 7/20\n",
            "49/49 [==============================] - 1s 21ms/step - loss: 0.1863 - acc: 0.9395 - val_loss: 0.3157 - val_acc: 0.8840\n",
            "Epoch 8/20\n",
            "49/49 [==============================] - 1s 21ms/step - loss: 0.1742 - acc: 0.9439 - val_loss: 0.3358 - val_acc: 0.8842\n",
            "Epoch 9/20\n",
            "49/49 [==============================] - 1s 21ms/step - loss: 0.1603 - acc: 0.9483 - val_loss: 0.3638 - val_acc: 0.8828\n",
            "Epoch 10/20\n",
            "49/49 [==============================] - 1s 22ms/step - loss: 0.1462 - acc: 0.9524 - val_loss: 0.3860 - val_acc: 0.8806\n",
            "Epoch 11/20\n",
            "49/49 [==============================] - 1s 21ms/step - loss: 0.1405 - acc: 0.9539 - val_loss: 0.4006 - val_acc: 0.8781\n",
            "Epoch 12/20\n",
            "49/49 [==============================] - 1s 21ms/step - loss: 0.1304 - acc: 0.9579 - val_loss: 0.4494 - val_acc: 0.8771\n",
            "Epoch 13/20\n",
            "49/49 [==============================] - 1s 21ms/step - loss: 0.1220 - acc: 0.9596 - val_loss: 0.4580 - val_acc: 0.8782\n",
            "Epoch 14/20\n",
            "49/49 [==============================] - 1s 21ms/step - loss: 0.1160 - acc: 0.9605 - val_loss: 0.4850 - val_acc: 0.8714\n",
            "Epoch 15/20\n",
            "49/49 [==============================] - 1s 21ms/step - loss: 0.1153 - acc: 0.9610 - val_loss: 0.5215 - val_acc: 0.8777\n",
            "Epoch 16/20\n",
            "49/49 [==============================] - 1s 21ms/step - loss: 0.1064 - acc: 0.9642 - val_loss: 0.5445 - val_acc: 0.8731\n",
            "Epoch 17/20\n",
            "49/49 [==============================] - 1s 22ms/step - loss: 0.0986 - acc: 0.9686 - val_loss: 0.5395 - val_acc: 0.8687\n",
            "Epoch 18/20\n",
            "49/49 [==============================] - 1s 21ms/step - loss: 0.1120 - acc: 0.9639 - val_loss: 0.5668 - val_acc: 0.8735\n",
            "Epoch 19/20\n",
            "49/49 [==============================] - 1s 21ms/step - loss: 0.1082 - acc: 0.9659 - val_loss: 0.5725 - val_acc: 0.8708\n",
            "Epoch 20/20\n",
            "49/49 [==============================] - 1s 22ms/step - loss: 0.1066 - acc: 0.9652 - val_loss: 0.6242 - val_acc: 0.8738\n"
          ],
          "name": "stdout"
        }
      ]
    },
    {
      "cell_type": "code",
      "metadata": {
        "colab": {
          "base_uri": "https://localhost:8080/",
          "height": 279
        },
        "id": "OGe8fm67JVPE",
        "outputId": "3a89449c-8c46-48f0-b4c1-7372420167fc"
      },
      "source": [
        "dpt_model_val_loss = dpt_model_hist.history['val_loss']\n",
        "\n",
        "\n",
        "plt.plot(epochs, original_val_loss, 'b+', label='Original model')\n",
        "plt.plot(epochs, dpt_model_val_loss, 'bo', label='Dropout-regularized model')\n",
        "plt.xlabel('Epochs')\n",
        "plt.ylabel('Validation loss')\n",
        "plt.legend()\n",
        "\n",
        "plt.show()\n"
      ],
      "execution_count": 15,
      "outputs": [
        {
          "output_type": "display_data",
          "data": {
            "image/png": "[encoded data removed]",
            "text/plain": [
              "<Figure size 432x288 with 1 Axes>"
            ]
          },
          "metadata": {
            "tags": [],
            "needs_background": "light"
          }
        }
      ]
    },
    {
      "cell_type": "code",
      "metadata": {
        "colab": {
          "base_uri": "https://localhost:8080/"
        },
        "id": "05npOoRaJYsq",
        "outputId": "8dfb2153-2898-46a0-c101-4f99cd22c8b2"
      },
      "source": [
        "from keras import regularizers\n",
        "\n",
        "# L1 regularization\n",
        "regularizers.l1(0.001)\n",
        "\n",
        "# L1 and L2 regularization at the same time\n",
        "regularizers.l1_l2(l1=0.001, l2=0.001)"
      ],
      "execution_count": 16,
      "outputs": [
        {
          "output_type": "execute_result",
          "data": {
            "text/plain": [
              "<tensorflow.python.keras.regularizers.L1L2 at 0x7f4d7bd4a080>"
            ]
          },
          "metadata": {
            "tags": []
          },
          "execution_count": 16
        }
      ]
    },
    {
      "cell_type": "code",
      "metadata": {
        "colab": {
          "base_uri": "https://localhost:8080/",
          "height": 279
        },
        "id": "cnkuZ_KGJeXH",
        "outputId": "5fa0f07d-f8a9-4405-e60a-e95cb30ef54b"
      },
      "source": [
        "dpt_model_val_loss = dpt_model_hist.history['val_loss']\n",
        "\n",
        "plt.plot(epochs, original_val_loss, 'b+', label='Original model')\n",
        "plt.plot(epochs, dpt_model_val_loss, 'bo', label='Dropout-regularized model')\n",
        "plt.xlabel('Epochs')\n",
        "plt.ylabel('Validation loss')\n",
        "plt.legend()\n",
        "\n",
        "plt.show() "
      ],
      "execution_count": 17,
      "outputs": [
        {
          "output_type": "display_data",
          "data": {
            "image/png": "[encoded data removed]",
            "text/plain": [
              "<Figure size 432x288 with 1 Axes>"
            ]
          },
          "metadata": {
            "tags": [],
            "needs_background": "light"
          }
        }
      ]
    }
  ]
}